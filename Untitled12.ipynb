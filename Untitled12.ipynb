{
  "nbformat": 4,
  "nbformat_minor": 0,
  "metadata": {
    "colab": {
      "name": "Untitled12.ipynb",
      "version": "0.3.2",
      "provenance": [],
      "collapsed_sections": [],
      "include_colab_link": true
    },
    "kernelspec": {
      "name": "python3",
      "display_name": "Python 3"
    }
  },
  "cells": [
    {
      "cell_type": "markdown",
      "metadata": {
        "id": "view-in-github",
        "colab_type": "text"
      },
      "source": [
        "<a href=\"https://colab.research.google.com/github/Kzis/BADS4002/blob/master/Untitled12.ipynb\" target=\"_parent\"><img src=\"https://colab.research.google.com/assets/colab-badge.svg\" alt=\"Open In Colab\"/></a>"
      ]
    },
    {
      "metadata": {
        "id": "Ktz0YqkE8cTq",
        "colab_type": "code",
        "colab": {}
      },
      "cell_type": "code",
      "source": [
        "#2.\n",
        "def remove_duplicates_shorthand(listof_elements):\n",
        "  unique_list = []\n",
        "  [unique_list.append(e) for e in listof_elements if e not in unique_list]\n",
        "  return unique_list\n",
        "\n",
        "def remove_duplicates(listof_elements):\n",
        "    unique_list = []\n",
        "    for elem in listof_elements:\n",
        "        if elem not in unique_list:\n",
        "            unique_list.append(elem)     \n",
        "    return unique_list\n",
        "\n",
        "first_name = input(\"Enter Firstname : \")\n",
        "last_name = input(\"Enter Lastname : \")\n",
        "\n",
        "# a.) uses lists to return a list of the common letters in the first and last names (the intersection).\n",
        "first_name_unique_letter_list = remove_duplicates(list(first_name))\n",
        "last_name_unique_letter_list = remove_duplicates_shorthand(list(last_name))\n",
        "first_name_unique_letter_list.sort(reverse=True)\n",
        "last_name_unique_letter_list.sort(reverse=True)\n",
        "\n",
        "# b.) uses sets to return a set that is the intersection of the characters in the first and last names.\n",
        "first_name_unique_letter_set = set(list(first_name))\n",
        "last_name_unique_letter_set = set(list(last_name))\n",
        "\n",
        "\n",
        "print(\"-\" * 30)\n",
        "print(\"Firstname list : {}\".format(first_name_unique_letter_list))\n",
        "print(\"Lastname list : {}\".format(last_name_unique_letter_list))\n",
        "print(\"-\" * 30)\n",
        "print(\"Firstname set : {}\".format(sorted(first_name_unique_letter_set, reverse=True)))\n",
        "print(\"Lastname list : {}\".format(sorted(last_name_unique_letter_set, reverse=True)))"
      ],
      "execution_count": 0,
      "outputs": []
    },
    {
      "metadata": {
        "id": "V5p9TVavMwWz",
        "colab_type": "code",
        "colab": {
          "base_uri": "https://localhost:8080/",
          "height": 153
        },
        "outputId": "224cc33d-46a6-41cf-a7ab-cd4725506718"
      },
      "cell_type": "code",
      "source": [
        "#3\n",
        "capitals = dict()\n",
        "for i in range(0,3):\n",
        "  country = input(\"Enter name of country {} : \".format(i+1))\n",
        "  capital = input(\"Enter name of capital {} : \".format(i+1))\n",
        "  capitals[country.capitalize()] = capital.capitalize()\n",
        "\n",
        "  \n",
        "sorted_capitals_keys = sorted(capitals.keys())\n",
        "sorted_capitals_items = sorted(capitals.items())\n",
        "\n",
        "capitals_sort = dict()\n",
        "for e in sorted_capitals_items:\n",
        "  capitals_sort[e[0]] = e[1]\n",
        "  \n",
        "print(capitals)\n",
        "print(capitals_sort)\n"
      ],
      "execution_count": 65,
      "outputs": [
        {
          "output_type": "stream",
          "text": [
            "Enter name of country 1 : japan\n",
            "Enter name of capital 1 : tokyo\n",
            "Enter name of country 2 : france\n",
            "Enter name of capital 2 : paris\n",
            "Enter name of country 3 : thailand\n",
            "Enter name of capital 3 : bangkok\n",
            "{'Japan': 'Tokyo', 'France': 'Paris', 'Thailand': 'Bangkok'}\n",
            "{'France': 'Paris', 'Japan': 'Tokyo', 'Thailand': 'Bangkok'}\n"
          ],
          "name": "stdout"
        }
      ]
    },
    {
      "metadata": {
        "id": "_65eTmiYTMQV",
        "colab_type": "code",
        "colab": {}
      },
      "cell_type": "code",
      "source": [
        "#4\n"
      ],
      "execution_count": 0,
      "outputs": []
    },
    {
      "metadata": {
        "id": "P0Jx12BKTZPd",
        "colab_type": "code",
        "colab": {
          "base_uri": "https://localhost:8080/",
          "height": 51
        },
        "outputId": "a107aa11-c948-43e7-ffe0-1dcb9bd00bb8"
      },
      "cell_type": "code",
      "source": [
        "#5\n",
        "words = {0:'zero',1:'one',2:'two',3:'three',4:'four',5:'five',6:'six',7:'seven',8:'eight',9:'nine'}\n",
        "new_words = []\n",
        "number = input(\"Enter number : \")\n",
        "\n",
        "for i in number:\n",
        "  new_words.append(words[int(i)])\n",
        "\n",
        "print(' '.join(new_words)) \n"
      ],
      "execution_count": 81,
      "outputs": [
        {
          "output_type": "stream",
          "text": [
            "Enter number : 138\n",
            "one three eight\n"
          ],
          "name": "stdout"
        }
      ]
    },
    {
      "metadata": {
        "id": "-GZsvL3zePrn",
        "colab_type": "code",
        "colab": {
          "base_uri": "https://localhost:8080/",
          "height": 374
        },
        "outputId": "a74c076f-2552-46c6-acc4-5bf57cf8e4a1"
      },
      "cell_type": "code",
      "source": [
        "#6\n",
        "# source : http://code.activestate.com/recipes/576783-state-capitals-quiz/\n",
        "# list state : https://en.wikipedia.org/wiki/List_of_capitals_in_the_United_States\n",
        "\n",
        "state_capitals={\"Washington\":\"Olympia\",\"Oregon\":\"Salem\",\"California\":\"Sacramento\",\"Ohio\":\"Columbus\",\n",
        "                    \"Nebraska\":\"Lincoln\",\"Colorado\":\"Denver\",\"Michigan\":\"Lansing\",\"Massachusetts\":\"Boston\",\n",
        "                    \"Florida\":\"Tallahassee\",\"Texas\":\"Austin\",\"Oklahoma\":\"Oklahoma City\",\"Hawaii\":\"Honolulu\",\n",
        "                    \"Alaska\":\"Juneau\",\"Utah\":\"Salt Lake City\",\"New Mexico\":\"Santa Fe\",\"North Dakota\":\"Bismarck\",\n",
        "                    \"South Dakota\":\"Pierre\",\"West Virginia\":\"Charleston\",\"Virginia\":\"Richmond\",\"New Jersey\":\"Trenton\",\n",
        "                    \"Minnesota\":\"Saint Paul\",\"Illinois\":\"Springfield\",\"Indiana\":\"Indianapolis\",\"Kentucky\":\"Frankfort\",\n",
        "                    \"Tennessee\":\"Nashville\",\"Georgia\":\"Atlanta\",\"Alabama\":\"Montgomery\",\"Mississippi\":\"Jackson\",\n",
        "                    \"North Carolina\":\"Raleigh\",\"South Carolina\":\"Columbia\",\"Maine\":\"Augusta\",\"Vermont\":\"Montpelier\",\n",
        "                    \"New Hampshire\":\"Concord\",\"Connecticut\":\"Hartford\",\"Rhode Island\":\"Providence\",\"Wyoming\":\"Cheyenne\",\n",
        "                    \"Montana\":\"Helena\",\"Kansas\":\"Topeka\",\"Iowa\":\"Des Moines\",\"Pennsylvania\":\"Harrisburg\",\n",
        "                    \"Maryland\":\"Annapolis\",\"Missouri\":\"Jefferson City\",\"Arizona\":\"Phoenix\",\"Nevada\":\"Carson City\",\n",
        "                    \"New York\":\"Albany\",\"Wisconsin\":\"Madison\",\"Delaware\":\"Dover\",\"Idaho\":\"Boise\",\n",
        "                    \"Arkansas\":\"Little Rock\",\"Louisiana\":\"Baton Rouge\"}\n",
        "\n",
        "correct_answers=[]\n",
        "incorrect_answers=[]\n",
        "\n",
        "import random\n",
        "for i in range(1,6):\n",
        "  question = random.choice(list(state_capitals.keys()))\n",
        "  correct_answer = state_capitals.get(question)\n",
        "#   print(\"question : {}\".format(question))\n",
        "#   print(\"correct answer : {}\".format(correct_answer))\n",
        " \n",
        "  q_text = str(i) + \".) What is the capital city of \" + question + \" ?\"\n",
        "  answer=input(q_text)\n",
        "  \n",
        "  if answer.lower().strip() == correct_answer.lower():\n",
        "    print(\"Result : That's Correct!\")\n",
        "    correct_answers.append(question)\n",
        "    del state_capitals[question]\n",
        "  else:\n",
        "    print(\"Result : That's Incorrect.\")\n",
        "    print(\"The correct answer is\",correct_answer)\n",
        "    incorrect_answers.append(question)\n",
        "  print(\" \"*30)\n",
        "\n",
        "print(\"-\"*30)\n",
        "print(\"You correct\",len(correct_answers),\"states.\")\n",
        "print(\"You incorrect\",len(incorrect_answers),\"states.\")"
      ],
      "execution_count": 97,
      "outputs": [
        {
          "output_type": "stream",
          "text": [
            "1.) What is the capital city of Washington ?\tOlympia\n",
            "Result : That's Correct!\n",
            "                              \n",
            "2.) What is the capital city of South Dakota ?x\n",
            "Result : That's Incorrect.\n",
            "The correct answer is Pierre\n",
            "                              \n",
            "3.) What is the capital city of Wyoming ?x\n",
            "Result : That's Incorrect.\n",
            "The correct answer is Cheyenne\n",
            "                              \n",
            "4.) What is the capital city of Connecticut ?x\n",
            "Result : That's Incorrect.\n",
            "The correct answer is Hartford\n",
            "                              \n",
            "5.) What is the capital city of Texas ?x\n",
            "Result : That's Incorrect.\n",
            "The correct answer is Austin\n",
            "                              \n",
            "You correct 1 states.\n",
            "You incorrect 4 states.\n"
          ],
          "name": "stdout"
        }
      ]
    },
    {
      "metadata": {
        "id": "fpRGGg5rkay4",
        "colab_type": "code",
        "colab": {
          "base_uri": "https://localhost:8080/",
          "height": 156
        },
        "outputId": "3c331b9e-c85f-45ed-88bf-6d680cce7ab2"
      },
      "cell_type": "code",
      "source": [
        "#7\n",
        "\n",
        "import random\n",
        "\n",
        "numbers = []\n",
        "numbers_unique = []\n",
        "numbers_dict = dict()\n",
        "\n",
        "for i in range(1,101):\n",
        "  numbers.append(random.choice(range(1,11)))\n",
        "\n",
        "numbers_unique = list(set(numbers))\n",
        "\n",
        "for i in numbers_unique:\n",
        "  numbers_dict[i] = numbers.count(i)\n",
        "\n",
        "print(numbers)\n",
        "print(len(numbers))\n",
        "print(\"-\"*30)\n",
        "print(numbers_unique)\n",
        "print(len(numbers_unique))\n",
        "print(\"-\"*30)\n",
        "print(numbers_dict)"
      ],
      "execution_count": 114,
      "outputs": [
        {
          "output_type": "stream",
          "text": [
            "[8, 7, 2, 8, 4, 5, 3, 5, 6, 2, 2, 10, 5, 7, 9, 8, 9, 9, 7, 8, 4, 3, 5, 1, 9, 6, 10, 3, 6, 3, 1, 1, 10, 4, 7, 6, 4, 2, 4, 9, 3, 3, 9, 10, 5, 6, 1, 8, 2, 6, 4, 3, 8, 2, 2, 10, 4, 2, 9, 10, 5, 2, 1, 7, 4, 10, 5, 6, 4, 6, 4, 3, 10, 10, 2, 9, 7, 5, 5, 8, 10, 5, 2, 10, 4, 2, 2, 1, 2, 9, 10, 9, 6, 2, 7, 7, 7, 9, 2, 5]\n",
            "100\n",
            "------------------------------\n",
            "[1, 2, 3, 4, 5, 6, 7, 8, 9, 10]\n",
            "10\n",
            "------------------------------\n",
            "{1: 6, 2: 16, 3: 8, 4: 11, 5: 11, 6: 9, 7: 9, 8: 7, 9: 11, 10: 12}\n"
          ],
          "name": "stdout"
        }
      ]
    },
    {
      "metadata": {
        "id": "Zq2tjltfm9jj",
        "colab_type": "code",
        "colab": {}
      },
      "cell_type": "code",
      "source": [
        "#8\n",
        "\n"
      ],
      "execution_count": 0,
      "outputs": []
    }
  ]
}