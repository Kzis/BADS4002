{
 "cells": [
  {
   "cell_type": "markdown",
   "metadata": {},
   "source": [
    "<font size=\"6\" color=\"#00A0B2\"  face=\"verdana\"> <B>Programming Exercise 1</B></font>\n",
    "\n",
    "\n",
    "## 1.Integer Operators\n",
    "\n",
    "One way to determine whether an integer is even is to divide the number by two and\n",
    "check the remainder. Write a three-line program that asks the user to enter a number,\n",
    "converts the input to an integer, and print a zero if the number is even and a one if the\n",
    "number is odd."
   ]
  },
  {
   "cell_type": "code",
   "execution_count": null,
   "metadata": {},
   "outputs": [],
   "source": [
    "print(\"Even\") if int(input(\"Enter number : \")) % 2 == 0 else print(\"Odd\")"
   ]
  },
  {
   "cell_type": "markdown",
   "metadata": {},
   "source": [
    "## 2.Sales Prediction\n",
    "\n",
    "A company has determined that its annual profit is typically 23 percent of total sales.\n",
    "Write a program that asks the user to enter the projected amount of total sales, and\n",
    "then displays Problem the profit that will be made from that amount. Hint: Use the\n",
    "value 0.23 to represent 23 percent."
   ]
  },
  {
   "cell_type": "code",
   "execution_count": null,
   "metadata": {},
   "outputs": [],
   "source": [
    "total_sales = input(\"Enter total sales : \")\n",
    "profit = float(total_sales) * 0.23\n",
    "print('Total sales : {}'.format(total_sales))\n",
    "print('Profit : {}'.format(profit))"
   ]
  },
  {
   "cell_type": "markdown",
   "metadata": {},
   "source": [
    "## 3.Pounds to Kilograms\n",
    "\n",
    "One pound is equivalent to 0.454 kilograms. Write a program that asks the user to\n",
    "enter the mass of an object in pounds and then calculates and displays the mass of the\n",
    "object in kilograms."
   ]
  },
  {
   "cell_type": "code",
   "execution_count": null,
   "metadata": {},
   "outputs": [],
   "source": [
    "pound = input(\"Enter the mass of an object in pounds : \")\n",
    "kilograms =  float(pound) * 0.454\n",
    "print('Pound : {} '.format(pound))\n",
    "print('Kilograms : {}'.format(kilograms))"
   ]
  },
  {
   "cell_type": "markdown",
   "metadata": {},
   "source": [
    "## 4.Total Purchase\n",
    "\n",
    "A customer in a store is purchasing five items. Write a program that asks for the price\n",
    "of each item, and then displays the subtotal of the sale, the amount of sales tax, and\n",
    "the total. Assume the sales tax is 7 percent."
   ]
  },
  {
   "cell_type": "code",
   "execution_count": null,
   "metadata": {},
   "outputs": [],
   "source": [
    "for i in range(0,5):\n",
    "    price = float(input(\"Enter price of item {} : \".format(i+1)))\n",
    "    tax_of_price = round(price * 0.07, 2)\n",
    "    total_amount = round(price + tax_of_price, 2)\n",
    "    print(\"Item {} , price is {} & tax is {} : Total = {}\".format(i+1,price,tax_of_price,total_amount))"
   ]
  },
  {
   "cell_type": "markdown",
   "metadata": {},
   "source": [
    "## 5.Tip, Tax, and Total\n",
    "\n",
    "Write a program that calculates the total amount of a meal purchased at a restaurant.\n",
    "The program should ask the user to enter the charge for the food, and then calculate\n",
    "the amount of a 18 percent tip and 7 percent sales tax. Display each of these amounts\n",
    "and the total."
   ]
  },
  {
   "cell_type": "code",
   "execution_count": null,
   "metadata": {},
   "outputs": [],
   "source": [
    "total_purchase = float(input(\"Enter total amount of a meal purchased :\"))\n",
    "tax = total_purchase * 0.07\n",
    "tip = total_purchase * 0.18\n",
    "total = total_purchase + tax + tip\n",
    "print(\"Purchase : {} , Tip : {} , Tax : {} , Total : {} \".format(total_purchase, tax, tip,total))"
   ]
  },
  {
   "cell_type": "markdown",
   "metadata": {},
   "source": [
    "## 6.Circle Measurements\n",
    "\n",
    "Write a program that asks the user to enter the radius of a circle. The program should\n",
    "calculate and display the area and circumference of the circle."
   ]
  },
  {
   "cell_type": "code",
   "execution_count": null,
   "metadata": {},
   "outputs": [],
   "source": [
    "import math\n",
    "\n",
    "radius = float(input(\"Enter radius of circle :\"))\n",
    "area = round( (math.pi) * (radius ** 2) , 2 )\n",
    "circumference = round( 2 * (math.pi) *radius , 2 )\n",
    "print(\"Radius : {} , Area : {} , Circumference : {}\".format(radius , area, circumference))"
   ]
  },
  {
   "cell_type": "markdown",
   "metadata": {},
   "source": [
    "## 7.Ingredient Adjuster\n",
    "A cookie recipe calls for the following ingredients:\n",
    "- 1.5 cups of sugar\n",
    "- 1 cup of butter\n",
    "- 2.75 cups of flour\n",
    "\n",
    "The recipe produces 48 cookies with this amount of the ingredients. Write a program\n",
    "that asks the user how many cookies he or she wants to make, and then displays the\n",
    "number of cups of each ingredient needed for the specified number of cookies."
   ]
  },
  {
   "cell_type": "code",
   "execution_count": null,
   "metadata": {},
   "outputs": [],
   "source": [
    "number_of_cookies = int(input(\"Enter  number of cookies :\"))\n",
    "\n",
    "sugar_per_piece = 1.5/48\n",
    "butter_per_piece = 1/48\n",
    "flour_per_piece = 2.75/48\n",
    "\n",
    "sugar_need = number_of_cookies*sugar_per_piece\n",
    "butter_need = number_of_cookies*butter_per_piece\n",
    "flour_need = number_of_cookies*flour_per_piece\n",
    "\n",
    "print(\"Cookies {} piece need sugar {} cup & butter {} cup & flour {} cup\".format(number_of_cookies,sugar_need,butter_need,flour_need))"
   ]
  },
  {
   "cell_type": "markdown",
   "metadata": {},
   "source": [
    "## 8.Male and Female Percentages\n",
    "Write a program that asks the user for the number of males and the number of females\n",
    "registered in a class. The program should display the percentage of males and females\n",
    "in the class.\n",
    "Hint: Suppose there are 8 males and 12 females in a class. There are 20 students in\n",
    "the class. The percentage of males can be calculated as 8 ÷ 20 = 0.4, or 40%. The\n",
    "percentage of females can be calculated as 12 ÷ 20 = 0.6, or 60%."
   ]
  },
  {
   "cell_type": "code",
   "execution_count": null,
   "metadata": {},
   "outputs": [],
   "source": [
    "n_male = int(input(\"Enter number of male : \"))\n",
    "n_female = int(input(\"Enter number of female : \"))\n",
    "total = n_male + n_female\n",
    "\n",
    "percentage_male = n_male/total\n",
    "percentage_female = n_female/total\n",
    "\n",
    "print(\"Male {} from {} is {} or {}%\".format(n_male,total,percentage_male,percentage_male*100))\n",
    "print(\"Female {} from {} is {} or {}%\".format(n_female,total,percentage_female,percentage_female*100))"
   ]
  },
  {
   "cell_type": "markdown",
   "metadata": {},
   "source": [
    "## 9.Stock Transaction Program\n",
    "Last month Joe purchased some stock in Acme Software, Inc. Here are the details of\n",
    "the purchase:\n",
    "- The number of shares that Joe purchased was 2,000.\n",
    "- When Joe purchased the stock, he paid 40.00 per share.\n",
    "- Joe paid his stockbroker a commission that amounted to 3 percent of the amount he paid for the stock.\n",
    "\n",
    "Two weeks later Joe sold the stock. Here are the details of the sale:\n",
    "- The number of shares that Joe sold was 2,000.\n",
    "- He sold the stock for 42.75 per share.\n",
    "- He paid his stockbroker another commission that amounted to 3 percent of the amount he received for the stock.\n",
    "\n",
    "Write a program that displays the following information:\n",
    "- The amount of money Joe paid for the stock.\n",
    "- The amount of commission Joe paid his broker when he bought the stock.\n",
    "- The amount of which Joe sold the stock.\n",
    "- The amount of commission Joe paid his broker when he sold the stock.\n",
    "- Display the amount of money that Joe had left when he sold the stock and paid his\n",
    "broker (both times). If this amount is positive, then Joe made a profit. If the\n",
    "amount is negative, then Joe lost money."
   ]
  },
  {
   "cell_type": "code",
   "execution_count": null,
   "metadata": {},
   "outputs": [],
   "source": [
    "joe_buy_amount = 2000\n",
    "joe_buy_price_per_amount = 40\n",
    "joe_buy_commission = 3\n",
    "joe_buy_stock_paid = joe_buy_amount*joe_buy_price_per_amount\n",
    "joe_buy_commission_paid = joe_buy_stock_paid * (joe_buy_commission/100)\n",
    "joe_buy_total = joe_buy_stock_paid + joe_buy_commission_paid\n",
    "\n",
    "joe_sell_amount = 2000\n",
    "joe_sell_price_per_amount = 42.75\n",
    "jou_sell_commission = 3\n",
    "joe_sell_stock_recieved = joe_sell_amount*joe_sell_price_per_amount\n",
    "joe_sell_commission_recieved = joe_sell_stock_recieved * (jou_sell_commission/100)\n",
    "joe_sell_total = joe_sell_stock_recieved - joe_sell_commission_recieved\n",
    "\n",
    "result = \" Joe made a profit\" if joe_sell_total > joe_buy_total else \" Joe lost money\"\n",
    "\n",
    "\n",
    "print(\"The amount of money Joe paid for the stock : {}\".format(joe_buy_stock_paid))\n",
    "print(\"The amount of commission Joe paid his broker when he bought the stock : {}\".format(joe_buy_stock_paid))\n",
    "print(\"The amount of which Joe sold the stock : {}\".format(joe_sell_stock_recieved))\n",
    "print(\"The amount of commission Joe paid his broker when he sold the stock : {}\".format(joe_sell_commission_recieved))\n",
    "print(\"----------\")\n",
    "print(\"The amount of commission Joe paid his broker first time is {} , second time is {} , total is {}\".format(joe_buy_stock_paid, joe_sell_commission_recieved , joe_buy_stock_paid+joe_sell_commission_recieved))\n",
    "print(\"Joe paid is {} , Joe recieve is {} so he {}\".format(joe_buy_total,joe_sell_total,result))"
   ]
  },
  {
   "cell_type": "markdown",
   "metadata": {},
   "source": [
    "## 10.Compound Interest\n",
    "When a bank account pays compound interest, it pays interest not only on the\n",
    "principal amount that was deposited into the account, but also on the interest that has\n",
    "accumulated over time. Suppose you want to deposit some money into a savings\n",
    "account and let the account earn compound interest for a certain number of years."
   ]
  },
  {
   "cell_type": "code",
   "execution_count": null,
   "metadata": {},
   "outputs": [],
   "source": [
    "printcipal_amount = input(\"Enter principal amount : \")\n",
    "annual_interest_rate = input(\"Enter annual interest rate : \")\n",
    "number_of_compounded_times_per_year  = input(\"Enter number of compounded times per year : \")\n",
    "number_of_years = input(\"Enter number of years : \")\n",
    "\n",
    "p = float(printcipal_amount)\n",
    "r = int(annual_interest_rate)/100\n",
    "n = int(number_of_compounded_times_per_year)\n",
    "t = int(number_of_years)\n",
    "a = round(p*( (1 + (r/n))**(n*t) ) , 2)\n",
    "\n",
    "print(\"A is {} \".format(a))"
   ]
  }
 ],
 "metadata": {
  "kernelspec": {
   "display_name": "Python 3",
   "language": "python",
   "name": "python3"
  },
  "language_info": {
   "codemirror_mode": {
    "name": "ipython",
    "version": 3
   },
   "file_extension": ".py",
   "mimetype": "text/x-python",
   "name": "python",
   "nbconvert_exporter": "python",
   "pygments_lexer": "ipython3",
   "version": "3.6.5"
  }
 },
 "nbformat": 4,
 "nbformat_minor": 2
}
