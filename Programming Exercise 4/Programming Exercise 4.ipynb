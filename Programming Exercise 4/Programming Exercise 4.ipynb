{
  "nbformat": 4,
  "nbformat_minor": 0,
  "metadata": {
    "colab": {
      "name": "Untitled12.ipynb",
      "version": "0.3.2",
      "provenance": [],
      "collapsed_sections": [],
      "include_colab_link": true
    },
    "kernelspec": {
      "name": "python3",
      "display_name": "Python 3"
    }
  },
  "cells": [
    {
      "cell_type": "markdown",
      "metadata": {
        "id": "view-in-github",
        "colab_type": "text"
      },
      "source": [
        "<a href=\"https://colab.research.google.com/github/Kzis/BADS4002/blob/master/Programming%20Excercise%204.ipynb\" target=\"_parent\"><img src=\"https://colab.research.google.com/assets/colab-badge.svg\" alt=\"Open In Colab\"/></a>"
      ]
    },
    {
      "metadata": {
        "id": "xT4T9y1gXl66",
        "colab_type": "text"
      },
      "cell_type": "markdown",
      "source": [
        "# <font size=\"6\" color=\"#00A0B2\"  face=\"verdana\"> <B>Programming Exercise 4</B></font>\n",
        "\n",
        "\n",
        "## 1.Caesar Cipher\n",
        "\n",
        "A Caesar cipher encrypts a message by shifting letters in the alphabet. For example, a\n",
        "shift of 4 maps 'a' to 'e' and maps 'p' to 't' Here is a famous line from\n",
        "Shakespeare encrypted with a shift of 4: “vq\tdg\tqt\tpqv\tvq\tdg:\tvjcv\tku\tvjg\tswguvkqp.”\n",
        "\n",
        "Write a program that asks the user to enter a string to be encrypted and an integer\n",
        "encrpytion shift (such as 4 mentioned above) and prints the encrypted string.\n",
        "\n",
        "Hint: Use zip() and letters[shift:]\t+\tletters[:shift]\t. Also, remember to handle space—it doesn’t shift."
      ]
    },
    {
      "metadata": {
        "id": "ZXxd6q3JS-P5",
        "colab_type": "code",
        "colab": {}
      },
      "cell_type": "code",
      "source": [
        "#1\n",
        "from string import ascii_lowercase as alphabet\n",
        "\n",
        "def cipher(plaintext, shift):\n",
        "  table = dict(zip(alphabet, alphabet[shift:] + alphabet[0:shift]))\n",
        "  table[' ']= ' '\n",
        "  return ''.join(table[c] for c in plaintext.lower())\n",
        "\n",
        "plaintext = \"BEWARE THE IDES OF MARCH\"\n",
        "res = cipher(plaintext, 13)\n",
        "print(plaintext)\n",
        "print(res)"
      ],
      "execution_count": 0,
      "outputs": []
    },
    {
      "metadata": {
        "id": "Cib5ku5-YDqE",
        "colab_type": "text"
      },
      "cell_type": "markdown",
      "source": [
        "## 2.Common Letters\n",
        "\n",
        "Write a program that asks the user to enter a person’s first and last names and\n",
        "\n",
        "(a) uses lists to return a list of the common letters in the first and last names (the\n",
        "intersection).\n",
        "\n",
        "(b) uses sets to return a set that is the intersection of the characters in the first and last\n",
        "names."
      ]
    },
    {
      "metadata": {
        "id": "Ktz0YqkE8cTq",
        "colab_type": "code",
        "colab": {}
      },
      "cell_type": "code",
      "source": [
        "#2.\n",
        "def remove_duplicates_shorthand(listof_elements):\n",
        "  unique_list = []\n",
        "  [unique_list.append(e) for e in listof_elements if e not in unique_list]\n",
        "  return unique_list\n",
        "\n",
        "def remove_duplicates(listof_elements):\n",
        "    unique_list = []\n",
        "    for elem in listof_elements:\n",
        "        if elem not in unique_list:\n",
        "            unique_list.append(elem)     \n",
        "    return unique_list\n",
        "\n",
        "first_name = input(\"Enter Firstname : \")\n",
        "last_name = input(\"Enter Lastname : \")\n",
        "\n",
        "# a.) uses lists to return a list of the common letters in the first and last names (the intersection).\n",
        "first_name_unique_letter_list = remove_duplicates(list(first_name))\n",
        "last_name_unique_letter_list = remove_duplicates_shorthand(list(last_name))\n",
        "first_name_unique_letter_list.sort(reverse=True)\n",
        "last_name_unique_letter_list.sort(reverse=True)\n",
        "\n",
        "# b.) uses sets to return a set that is the intersection of the characters in the first and last names.\n",
        "first_name_unique_letter_set = set(list(first_name))\n",
        "last_name_unique_letter_set = set(list(last_name))\n",
        "\n",
        "\n",
        "print(\"-\" * 30)\n",
        "print(\"Firstname list : {}\".format(first_name_unique_letter_list))\n",
        "print(\"Lastname list : {}\".format(last_name_unique_letter_list))\n",
        "print(\"-\" * 30)\n",
        "print(\"Firstname set : {}\".format(sorted(first_name_unique_letter_set, reverse=True)))\n",
        "print(\"Lastname list : {}\".format(sorted(last_name_unique_letter_set, reverse=True)))"
      ],
      "execution_count": 0,
      "outputs": []
    },
    {
      "metadata": {
        "id": "m9uomDr-YRF6",
        "colab_type": "text"
      },
      "cell_type": "markdown",
      "source": [
        "## 3.Capital Cities\n",
        "\n",
        "Create a dictionary that maps countries to their capitals. You may start with an empty\n",
        "dictionary. Ask the user to input the name of the country and its capital and add them\n",
        "to the dictionary. E.g.,\n",
        "\n",
        "capitals\t=\t{\t'Japan':'Tokyo',\t\n",
        "> 'France':'Paris',\n",
        "\n",
        "> 'Thailand':\t'Bangkok'}\n",
        "\n",
        "\n",
        "  \n",
        "Once the dictionary is created, print the capitals in alphabetical order."
      ]
    },
    {
      "metadata": {
        "id": "V5p9TVavMwWz",
        "colab_type": "code",
        "colab": {}
      },
      "cell_type": "code",
      "source": [
        "#3\n",
        "capitals = dict()\n",
        "for i in range(0,3):\n",
        "  country = input(\"Enter name of country {} : \".format(i+1))\n",
        "  capital = input(\"Enter name of capital {} : \".format(i+1))\n",
        "  capitals[country.capitalize()] = capital.capitalize()\n",
        "\n",
        "  \n",
        "sorted_capitals_keys = sorted(capitals.keys())\n",
        "sorted_capitals_items = sorted(capitals.items())\n",
        "\n",
        "capitals_sort = dict()\n",
        "for e in sorted_capitals_items:\n",
        "  capitals_sort[e[0]] = e[1]\n",
        "  \n",
        "print(capitals)\n",
        "print(capitals_sort)\n"
      ],
      "execution_count": 0,
      "outputs": []
    },
    {
      "metadata": {
        "id": "UYiIHACNY5ne",
        "colab_type": "text"
      },
      "cell_type": "markdown",
      "source": [
        "## 4.Cities Report\n",
        "\n",
        "Consider a file in which every line is of the format City,\tCountry. Read the file,\n",
        "record the information in a dictionary, and report the number of cities in each country.\n",
        "For example, if the file contains\n",
        "\n",
        "> London,UK\n",
        "\n",
        "> Chicago,US\n",
        "\n",
        "> Detroit,US\n",
        "  \n",
        "The output will be:\n",
        "> UK\t:\t1\tUS\t:\t2\n",
        "\n",
        "\n",
        "  "
      ]
    },
    {
      "metadata": {
        "id": "_65eTmiYTMQV",
        "colab_type": "code",
        "colab": {}
      },
      "cell_type": "code",
      "source": [
        "#4\n",
        "import csv\n",
        "\n",
        "city_list = [] \n",
        "city_set = []\n",
        "rows = []\n",
        "results = dict()\n",
        "\n",
        "with open('city_country.csv', 'r', newline='') as f:\n",
        "    reader = csv.reader(f)\n",
        "    for row in reader:\n",
        "        rows.append(row)\n",
        "\n",
        "columns = rows[0] \n",
        "data = rows[1:]\n",
        "\n",
        "[city_list.append(col[1]) for col in data]\n",
        "\n",
        "city_set = set(city_list)\n",
        "\n",
        "for city in list(city_set):\n",
        "  results[city] = city_list.count(city)\n",
        "\n",
        "print(results)"
      ],
      "execution_count": 0,
      "outputs": []
    },
    {
      "metadata": {
        "id": "8e4uUfEZZn8D",
        "colab_type": "text"
      },
      "cell_type": "markdown",
      "source": [
        "## 5.Numbers to Words Conversion\n",
        "\n",
        "Use a dictionary to create a program that asks the user to enter an integer and prints\n",
        "out the integer using words. For example: 138 will print “one three eight”."
      ]
    },
    {
      "metadata": {
        "id": "P0Jx12BKTZPd",
        "colab_type": "code",
        "colab": {}
      },
      "cell_type": "code",
      "source": [
        "#5\n",
        "words = {0:'zero',1:'one',2:'two',3:'three',4:'four',5:'five',6:'six',7:'seven',8:'eight',9:'nine'}\n",
        "new_words = []\n",
        "number = input(\"Enter number : \")\n",
        "\n",
        "for i in number:\n",
        "  new_words.append(words[int(i)])\n",
        "\n",
        "print(' '.join(new_words)) \n"
      ],
      "execution_count": 0,
      "outputs": []
    },
    {
      "metadata": {
        "id": "vsUUH6zjZznF",
        "colab_type": "text"
      },
      "cell_type": "markdown",
      "source": [
        "## 6.Capital Quiz\n",
        "\n",
        "Write a program that creates a dictionary containing the U.S. states as keys and their\n",
        "capitals as values. (Use the Internet to get a list of the states and their capitals.) The\n",
        "program should then randomly quiz the user for 5 times by displaying the name of a\n",
        "state and asking the user to enter that state’s capital. The program should keep a count\n",
        "of the number of correct and incorrect responses.\n",
        "\n",
        "Hint: Do import\trandom and use random.choice()."
      ]
    },
    {
      "metadata": {
        "id": "-GZsvL3zePrn",
        "colab_type": "code",
        "colab": {}
      },
      "cell_type": "code",
      "source": [
        "#6\n",
        "# source : http://code.activestate.com/recipes/576783-state-capitals-quiz/\n",
        "# list state : https://en.wikipedia.org/wiki/List_of_capitals_in_the_United_States\n",
        "\n",
        "state_capitals={\"Washington\":\"Olympia\",\"Oregon\":\"Salem\",\"California\":\"Sacramento\",\"Ohio\":\"Columbus\",\n",
        "                    \"Nebraska\":\"Lincoln\",\"Colorado\":\"Denver\",\"Michigan\":\"Lansing\",\"Massachusetts\":\"Boston\",\n",
        "                    \"Florida\":\"Tallahassee\",\"Texas\":\"Austin\",\"Oklahoma\":\"Oklahoma City\",\"Hawaii\":\"Honolulu\",\n",
        "                    \"Alaska\":\"Juneau\",\"Utah\":\"Salt Lake City\",\"New Mexico\":\"Santa Fe\",\"North Dakota\":\"Bismarck\",\n",
        "                    \"South Dakota\":\"Pierre\",\"West Virginia\":\"Charleston\",\"Virginia\":\"Richmond\",\"New Jersey\":\"Trenton\",\n",
        "                    \"Minnesota\":\"Saint Paul\",\"Illinois\":\"Springfield\",\"Indiana\":\"Indianapolis\",\"Kentucky\":\"Frankfort\",\n",
        "                    \"Tennessee\":\"Nashville\",\"Georgia\":\"Atlanta\",\"Alabama\":\"Montgomery\",\"Mississippi\":\"Jackson\",\n",
        "                    \"North Carolina\":\"Raleigh\",\"South Carolina\":\"Columbia\",\"Maine\":\"Augusta\",\"Vermont\":\"Montpelier\",\n",
        "                    \"New Hampshire\":\"Concord\",\"Connecticut\":\"Hartford\",\"Rhode Island\":\"Providence\",\"Wyoming\":\"Cheyenne\",\n",
        "                    \"Montana\":\"Helena\",\"Kansas\":\"Topeka\",\"Iowa\":\"Des Moines\",\"Pennsylvania\":\"Harrisburg\",\n",
        "                    \"Maryland\":\"Annapolis\",\"Missouri\":\"Jefferson City\",\"Arizona\":\"Phoenix\",\"Nevada\":\"Carson City\",\n",
        "                    \"New York\":\"Albany\",\"Wisconsin\":\"Madison\",\"Delaware\":\"Dover\",\"Idaho\":\"Boise\",\n",
        "                    \"Arkansas\":\"Little Rock\",\"Louisiana\":\"Baton Rouge\"}\n",
        "\n",
        "correct_answers=[]\n",
        "incorrect_answers=[]\n",
        "\n",
        "import random\n",
        "for i in range(1,6):\n",
        "  question = random.choice(list(state_capitals.keys()))\n",
        "  correct_answer = state_capitals.get(question)\n",
        "#   print(\"question : {}\".format(question))\n",
        "#   print(\"correct answer : {}\".format(correct_answer))\n",
        " \n",
        "  q_text = str(i) + \".) What is the capital city of \" + question + \" ?\"\n",
        "  answer=input(q_text)\n",
        "  \n",
        "  if answer.lower().strip() == correct_answer.lower():\n",
        "    print(\"Result : That's Correct!\")\n",
        "    correct_answers.append(question)\n",
        "    del state_capitals[question]\n",
        "  else:\n",
        "    print(\"Result : That's Incorrect.\")\n",
        "    print(\"The correct answer is\",correct_answer)\n",
        "    incorrect_answers.append(question)\n",
        "  print(\" \"*30)\n",
        "\n",
        "print(\"-\"*30)\n",
        "print(\"You correct\",len(correct_answers),\"states.\")\n",
        "print(\"You incorrect\",len(incorrect_answers),\"states.\")"
      ],
      "execution_count": 0,
      "outputs": []
    },
    {
      "metadata": {
        "id": "lgtqWezOZ-Z1",
        "colab_type": "text"
      },
      "cell_type": "markdown",
      "source": [
        "## 7.Random Number Frequencies\n",
        "\n",
        "Write a program that generates 100 random numbers between 1 and 10. The program\n",
        "should store the frequency of each number generated in a dictionary with the number\n",
        "as the key and the amount of times it has occurred as the value. For example, if the\n",
        "program generates the number 6 a total of 11 times, the dictionary will contain a key\n",
        "of 6 with an associated value of 11. Once all of the numbers have been generated,\n",
        "display information about the frequency of each number.\n",
        "\n",
        "Hint: Do import\trandom and use random.choice()."
      ]
    },
    {
      "metadata": {
        "id": "fpRGGg5rkay4",
        "colab_type": "code",
        "colab": {}
      },
      "cell_type": "code",
      "source": [
        "#7\n",
        "\n",
        "import random\n",
        "\n",
        "numbers = []\n",
        "numbers_unique = []\n",
        "numbers_dict = dict()\n",
        "\n",
        "for i in range(1,101):\n",
        "  numbers.append(random.choice(range(1,11)))\n",
        "\n",
        "numbers_unique = list(set(numbers))\n",
        "\n",
        "for i in numbers_unique:\n",
        "  numbers_dict[i] = numbers.count(i)\n",
        "\n",
        "print(numbers)\n",
        "print(len(numbers))\n",
        "print(\"-\"*30)\n",
        "print(numbers_unique)\n",
        "print(len(numbers_unique))\n",
        "print(\"-\"*30)\n",
        "print(numbers_dict)"
      ],
      "execution_count": 0,
      "outputs": []
    },
    {
      "metadata": {
        "id": "hob1XYxRaXrc",
        "colab_type": "text"
      },
      "cell_type": "markdown",
      "source": [
        "## 8.File Analysis\n",
        "\n",
        "Write a program that reads the contents of two text files and compares them in the\n",
        "following ways:\n",
        "*   It should display a list of all the unique words contained in both files.\n",
        "*   It should display a list of the words that appear in both files.\n",
        "*   It should display a list of the words that appear in the second file but not the first.\n",
        "*   It should display a list of the words that appear in either the first or second file but not both.\n",
        "\n",
        "Hint: Use set operations to perform these analyses."
      ]
    },
    {
      "metadata": {
        "id": "Zq2tjltfm9jj",
        "colab_type": "code",
        "colab": {}
      },
      "cell_type": "code",
      "source": [
        "#8\n",
        "import csv\n",
        "\n",
        "file_path1 = \"file1.csv\"\n",
        "file_path2 = \"file2.csv\"\n",
        "\n",
        "def get_file_detail(file_path):\n",
        "  file_rows = []\n",
        "\n",
        "  with open(file_path, 'r', newline='') as f:\n",
        "    reader = csv.reader(f)\n",
        "    for row in reader:\n",
        "        file_rows.append(row)\n",
        "  \n",
        "  return file_rows\n",
        "\n",
        "def get_list_of_file(file_rows):\n",
        "  new_list = []\n",
        "  for i in file_rows:\n",
        "    for j in i:\n",
        "      new_list.append(j)\n",
        "  return new_list\n",
        "\n",
        "# f1 = get_file_detail(file_path1)\n",
        "# f2 = get_file_detail(file_path2)\n",
        "\n",
        "f1_list = get_list_of_file(get_file_detail(file_path1))\n",
        "f2_list = get_list_of_file(get_file_detail(file_path2))\n",
        "\n",
        "print(\"Original list from file1 and file2\")\n",
        "print(f1_list)\n",
        "print(f2_list)\n",
        "print()\n",
        "\n",
        "print(\"Display a list of all the unique words contained in both files\")\n",
        "print(set(f1_list))\n",
        "print(set(f2_list))\n",
        "print()\n",
        "\n",
        "print(\"Display a list of the words that appear in both files.\")\n",
        "print(set(f1_list).intersection(set(f2_list)))\n",
        "print()\n",
        "\n",
        "print(\"Display a list of the words that appear in the second file but not the first.\")\n",
        "print(set(f2_list).difference(set(f1_list)))\n",
        "#print(set(f1_list).difference(set(f2_list)))\n",
        "print()\n",
        "\n",
        "print(\"Display a list of the words that appear in either the first or second file but not both.\")\n",
        "print(set(f2_list).symmetric_difference(set(f1_list)))\n",
        "print()"
      ],
      "execution_count": 0,
      "outputs": []
    },
    {
      "metadata": {
        "id": "3y_wuN-FavFD",
        "colab_type": "text"
      },
      "cell_type": "markdown",
      "source": [
        "## 9.Name and Email Addresses\n",
        "\n",
        "Write a program that keeps names and email addresses in a dictionary as key-value\n",
        "pairs. The program should display a menu that lets the user look up a person’s email\n",
        "address, add a new name and email address, change an existing email address, and\n",
        "delete an existing name and email address."
      ]
    },
    {
      "metadata": {
        "id": "RwPvrUTVieKu",
        "colab_type": "code",
        "colab": {}
      },
      "cell_type": "code",
      "source": [
        "#9\n",
        "user = dict()\n",
        "\n",
        "def get_msg(msg_type):\n",
        "  if msg_type == \"command\":\n",
        "    print(\"===== Management Email =====\")\n",
        "    print(\"Enter 0 : Show all user\")\n",
        "    print(\"Enter 1 : New name and e-mail address\")\n",
        "    print(\"Enter 2 : Change e-mail address\")\n",
        "    print(\"Enter 3 : Delete name and e-mail address\")\n",
        "    print(\"Enter 4 or done : Exit\")\n",
        "    print(\"============================\")\n",
        "\n",
        "get_msg(\"command\")\n",
        "\n",
        "while True:\n",
        "  command = input(\"Enter command : \")\n",
        "  if command == \"done\" or command == \"4\":\n",
        "    print(\"===== Exit program =====\")\n",
        "    break\n",
        "  elif command == \"0\":\n",
        "    print(user)\n",
        "  elif command == \"1\":\n",
        "    print(\"Choose : New name and e-mail address\")\n",
        "    name = input(\"Enter name : \")\n",
        "    email = input(\"Enter email :\")\n",
        "    user[name] = email\n",
        "    print(\"Add username : {} , email : {} completed.\".format(name,email))\n",
        "  elif command == \"2\":\n",
        "    print(\"Choose : Change e-mail address\")\n",
        "    name = input(\"Enter name for change : \")\n",
        "    email = input(\"Enter new email :\")\n",
        "    \n",
        "    if name in user:\n",
        "      mail_before = user[name]\n",
        "      user[name] = email\n",
        "      print(\"Edit email : {} to {} completed.\".format(mail_before,email))\n",
        "    else:\n",
        "      print(\"Not found user name {}.\".format(name))\n",
        "      \n",
        "  elif command == \"3\":\n",
        "    print(\"Choose : Delete name and e-mail address\")\n",
        "    name = input(\"Enter name for delete : \")\n",
        "    \n",
        "    if name in user:\n",
        "      print(\"Delete email : {} completed.\".format(user[name]))\n",
        "      user.pop(name) \n",
        "    else:\n",
        "      print(\"Not found user name {}.\".format(name))\n",
        "      \n",
        "  else:\n",
        "    print(\"You choose incorrect menu please try again.\")\n",
        "  print(\"-\"*30)"
      ],
      "execution_count": 0,
      "outputs": []
    },
    {
      "metadata": {
        "id": "wp2HG96mbNmy",
        "colab_type": "text"
      },
      "cell_type": "markdown",
      "source": [
        ""
      ]
    },
    {
      "metadata": {
        "id": "FNwJ0CUka5dU",
        "colab_type": "text"
      },
      "cell_type": "markdown",
      "source": [
        "## 10.Word Index\n",
        "\n",
        "Write a program that reads the contents of a text file. The program should create a\n",
        "dictionary in which the key-value pairs are described as follows:\n",
        "\n",
        "*   Key. The keys are the individual words found in the file.\n",
        "*  Values. Each value is a list that contains the line numbers in the file where the\n",
        "word (the key) is found.\n",
        "\n",
        "For example, suppose the word “robot” is found in lines 7, 18, 94, and 138. The\n",
        "dictionary would contain an element in which the key was the string “robot”, and the\n",
        "value was a list containing the numbers 7, 18, 94, and 138."
      ]
    },
    {
      "metadata": {
        "id": "uSo7_8GzD5nQ",
        "colab_type": "code",
        "colab": {}
      },
      "cell_type": "code",
      "source": [
        "#10\n",
        "def get_list_lines():  \n",
        "  with open('humpty_dumpty.txt', 'r') as f:\n",
        "      data = f.readlines()\n",
        "\n",
        "  list_lines = []\n",
        "  for value in data:\n",
        "    line = []\n",
        "    for i in value.split(\" \"):\n",
        "      line.append(i.replace(\".\",\"\").replace(\",\",\"\").replace(\"\\n\",\"\").lower())\n",
        "    list_lines.append(line)  \n",
        "  return list_lines\n",
        "\n",
        "def get_unique_words(list_lines):\n",
        "  unique_words = []\n",
        "  for line in list_lines:\n",
        "    for i in line:\n",
        "      unique_words.append(i)\n",
        "  return list(set(unique_words))\n",
        "\n",
        "result = dict()\n",
        "list_lines = get_list_lines()\n",
        "unique_words = get_unique_words(get_list_lines())\n",
        "\n",
        "print(list_lines)\n",
        "print(unique_words)\n",
        "print(\"-\"*30)\n",
        "\n",
        "for word in unique_words:\n",
        "  found = []\n",
        "  for line,value in enumerate(list_lines,start=1):\n",
        "    found.append(line) if word in value else None\n",
        "  result[word] = found\n",
        "  \n",
        "print(result)"
      ],
      "execution_count": 0,
      "outputs": []
    },
    {
      "metadata": {
        "id": "NLR3b_DHGGh9",
        "colab_type": "code",
        "colab": {}
      },
      "cell_type": "code",
      "source": [
        ""
      ],
      "execution_count": 0,
      "outputs": []
    }
  ]
}