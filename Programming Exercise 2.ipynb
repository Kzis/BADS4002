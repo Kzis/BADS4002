{
 "cells": [
  {
   "cell_type": "markdown",
   "metadata": {},
   "source": [
    "<font size=\"6\" color=\"#00A0B2\"  face=\"verdana\"> <B>Programming Exercise 2</B></font>\n",
    "\n",
    "\n",
    "## 1.Name Display\n",
    "\n",
    "Write a program that gets a string containing a person’s first and last names as\n",
    "separate values, and then displays their \"initials\", \"name in address book\", and \n",
    "\"username\". For example, if the user enters a first name of \"John\" and a last name of \n",
    "\"Smith\",the program should display \"J.S.\", \"John SMITH\", and \"jsmith\"."
   ]
  },
  {
   "cell_type": "code",
   "execution_count": 12,
   "metadata": {},
   "outputs": [
    {
     "name": "stdout",
     "output_type": "stream",
     "text": [
      "Enter first name : john\n",
      "Enter last name : smith\n",
      "initials : J.S.\n",
      "Name in address book : John SMITH\n",
      "User name : jsmith\n"
     ]
    }
   ],
   "source": [
    "f_name = input(\"Enter first name : \")\n",
    "l_name = input(\"Enter last name : \")\n",
    "\n",
    "initials = f_name[0:1].upper() + \".\" + l_name[0:1].upper() + \".\"\n",
    "name_in_address_book = f_name[0:1].upper() + f_name[1:].lower() + \" \" + l_name.upper()\n",
    "user_name = f_name[0:1].lower() + l_name.lower()\n",
    "\n",
    "print(\"initials : {}\".format(initials))\n",
    "print(\"Name in address book : {}\".format(name_in_address_book))\n",
    "print(\"User name : {}\".format(user_name))"
   ]
  },
  {
   "cell_type": "markdown",
   "metadata": {},
   "source": [
    "## 2.Sum of Digits in a String\n",
    "\n",
    "Write a program that asks the user to enter a series of single-digit numbers with nothing separating them. The program should display the sum of all the single digit numbers in the string. For example, if the user enters 2514, the method should return 12, which is the sum of 2, 5, 1, and 4."
   ]
  },
  {
   "cell_type": "code",
   "execution_count": 19,
   "metadata": {},
   "outputs": [
    {
     "name": "stdout",
     "output_type": "stream",
     "text": [
      "Enter digit string : 123\n",
      "Summary is 6\n"
     ]
    }
   ],
   "source": [
    "digit_string = input(\"Enter digit string : \")\n",
    "summary = 0\n",
    "for digit in digit_string:\n",
    "    summary += int(digit)\n",
    "print(\"Summary is {}\".format(summary))"
   ]
  },
  {
   "cell_type": "markdown",
   "metadata": {},
   "source": [
    "## 3.Date Printer\n",
    "\n",
    "Write a program that reads a string from the user containing a date in the form mm/dd/ yyyy. It should print the date in the form March 12, 2018."
   ]
  },
  {
   "cell_type": "code",
   "execution_count": 28,
   "metadata": {},
   "outputs": [
    {
     "name": "stdout",
     "output_type": "stream",
     "text": [
      "Enter date format mm/dd/yyyy : 03/12/2018\n",
      "March 12, 2018\n"
     ]
    }
   ],
   "source": [
    "import calendar\n",
    "date =  input(\"Enter date format mm/dd/yyyy : \").split(\"/\")\n",
    "print(calendar.month_name[int(date[0])] + \" \" + date[1] + \", \"+date[2] )"
   ]
  },
  {
   "cell_type": "markdown",
   "metadata": {},
   "source": [
    "## 4.Alphabetic Telephone Number Translator\n",
    "\n",
    "Many companies use telephone numbers like 555-GET-FOOD so the number is easier for their customers to remember. On a standard telephone, the alphabetic letters are mapped to numbers in the following fashion:\n",
    "- A, B, and C ︎= 2\n",
    "- D, E, and F =3\n",
    "- G, H, and I =4\n",
    "- J, K, and L =5\n",
    "- M, N, and O =6 \n",
    "- P, Q, R, and S =7 \n",
    "- T, U, and V =8\n",
    "- W, X, Y, and Z =9\n",
    "\n",
    "Write a program that asks the user to enter a 10-character telephone number in the format XXX-XXX-XXXX. The application should display the telephone number with any alphabetic characters that appeared in the original translated to their numeric equiva-lent. For example, if the user enters 555-GET-FOOD the application should display 555-438-3663."
   ]
  },
  {
   "cell_type": "code",
   "execution_count": 23,
   "metadata": {},
   "outputs": [
    {
     "name": "stdout",
     "output_type": "stream",
     "text": [
      "Enter 10-character telephone number :555-GET-FOOD \n",
      "555-438-3663\n"
     ]
    }
   ],
   "source": [
    "phone_letters = {'A': '2','B': '2','C': '2',\n",
    "                         'D': '3','E': '3','F': '3',\n",
    "                         'G': '4','H': '4','I': '4',\n",
    "                         'J': '5','K': '5','L': '5',\n",
    "                         'M': '6','N': '6','O': '6',\n",
    "                         'P': '7','Q': '7','R': '7','S': '7',\n",
    "                         'T': '8','U': '8','V': '8',\n",
    "                         'W': '9','X': '9','Y': '9','Z': '9'}\n",
    "\n",
    "tel_num = input(\"Enter 10-character telephone number :\")\n",
    "result = []\n",
    "\n",
    "for n in tel_num:\n",
    "    if n.isdigit():\n",
    "        str(result.append(n))\n",
    "    elif n.isalpha():\n",
    "        value = phone_letters.get(n.capitalize())\n",
    "        result.append(value)\n",
    "        \n",
    "part1 = result[0]+result[1]+result[2]\n",
    "part2 = result[3]+result[4]+result[5]\n",
    "part3 = result[6]+result[7]+result[8]+result[9]\n",
    "print(part1 + \"-\" + part2 + \"-\" + part3)\n"
   ]
  },
  {
   "cell_type": "markdown",
   "metadata": {},
   "source": [
    "## 5.Character Analysis\n",
    "\n",
    "Write a program that asks the user to enter a sentence and determines the following: the number of uppercase letters, the number of lowpercase letters, the number of digits, and the number of whitespace characters. \n"
   ]
  },
  {
   "cell_type": "code",
   "execution_count": 30,
   "metadata": {},
   "outputs": [
    {
     "name": "stdout",
     "output_type": "stream",
     "text": [
      "Enter sentence : 12 AA aa\n",
      "Number of uppercase : 2\n",
      "Number of lowercase : 2\n",
      "Number of digits : 2\n",
      "Number of whitespace : 2\n"
     ]
    }
   ],
   "source": [
    "sentences = input(\"Enter sentence : \")\n",
    "c_upper = 0\n",
    "c_lower = 0\n",
    "c_number = 0\n",
    "c_space = 0\n",
    "for i in sentences:\n",
    "    c_upper = c_upper+1 if i.isupper() else c_upper\n",
    "    c_lower =  c_lower+1 if i.islower() else c_lower\n",
    "    c_number =  c_number+1 if i.isdigit() else c_number\n",
    "    c_space =  c_space+1 if i.isspace() else c_space\n",
    "    \n",
    "print(\"Number of uppercase : {}\".format(c_upper))\n",
    "print(\"Number of lowercase : {}\".format(c_lower))\n",
    "print(\"Number of digits : {}\".format(c_number))\n",
    "print(\"Number of whitespace : {}\".format(c_space))"
   ]
  },
  {
   "cell_type": "markdown",
   "metadata": {},
   "source": [
    "## 6.Sentence Capitalizer\n",
    "\n",
    "Write a program with a function that accepts a string as an argument and returns a copy of the string with the first character of each sentence capitalized. For instance, if the argument is “hello. my name is Joe. what is your name?” the function should return the string “Hello. My name is Joe. What is your name?” The program should let the user enter a string and then pass it to the function. The modified string should be displayed."
   ]
  },
  {
   "cell_type": "code",
   "execution_count": 4,
   "metadata": {},
   "outputs": [
    {
     "name": "stdout",
     "output_type": "stream",
     "text": [
      "Enter string : hello. my name is Joe. what is your name?\n",
      "Hello. My name is Joe. What is your name?\n"
     ]
    }
   ],
   "source": [
    "#hello. my name is Joe. what is your name?\n",
    "string_containing = input(\"Enter string : \")\n",
    "\n",
    "sentences = string_containing.split(\". \")\n",
    "sentences_new = [sentence[0].capitalize() + sentence[1:] for sentence in sentences]\n",
    "string_join = '. '.join(sentences_new)\n",
    "\n",
    "print (string_join)"
   ]
  },
  {
   "cell_type": "markdown",
   "metadata": {},
   "source": [
    "## 7.Vowels and Consonants\n",
    "Write a program with a function that accepts a string as an argument and returns the number of vowels that the string contains. The application should have another function that accepts a string as an argument and returns the number of consonants that the string contains. The application should let the user enter a string and should display the number of vowels and the number of consonants it contains."
   ]
  },
  {
   "cell_type": "code",
   "execution_count": 36,
   "metadata": {},
   "outputs": [
    {
     "name": "stdout",
     "output_type": "stream",
     "text": [
      "Enter a string of vowels and consonants : aeioukknd\n",
      "Number of vowels : 5\n",
      "Number of consonants : 4\n"
     ]
    }
   ],
   "source": [
    "text = input(\"Enter a string of vowels and consonants : \")\n",
    "vowel_list = ['a','e','i','o','u']\n",
    "n_vowels = 0 \n",
    "n_consonants = 0\n",
    "\n",
    "for i in text:\n",
    "    if i in vowel_list:\n",
    "        n_vowels += 1\n",
    "    else:\n",
    "        n_consonants +=1\n",
    "\n",
    "print(\"Number of vowels : {}\".format(n_vowels))\n",
    "print(\"Number of consonants : {}\".format(n_consonants))\n"
   ]
  },
  {
   "cell_type": "markdown",
   "metadata": {},
   "source": [
    "## 8.Most Frequent Character\n",
    "Write a program that lets the user enter a string and displays the character that appears most frequently in the string."
   ]
  },
  {
   "cell_type": "code",
   "execution_count": 32,
   "metadata": {},
   "outputs": [
    {
     "name": "stdout",
     "output_type": "stream",
     "text": [
      "Enter string :Aasdasdxcvveeeeeeeeee\n",
      "e\n",
      "10\n"
     ]
    }
   ],
   "source": [
    "sentences = input(\"Enter string :\")\n",
    "max = 0\n",
    "for i in sentences:\n",
    "    if sentences.count(i) > max:\n",
    "        text = i\n",
    "        max = sentences.count(i)\n",
    "print(text)\n",
    "print(max)"
   ]
  },
  {
   "cell_type": "markdown",
   "metadata": {},
   "source": [
    "## 9.Word Separator\n",
    "Write a program that accepts as input a sentence in which all of the words are run together but the first character of each word is uppercase. Convert the sentence to a string in which the words are separated by spaces and only the first word starts with an uppercase letter. For example the string “StopAndSmellTheRoses.” would be converted to “Stop and smell the roses."
   ]
  },
  {
   "cell_type": "code",
   "execution_count": 2,
   "metadata": {},
   "outputs": [
    {
     "name": "stdout",
     "output_type": "stream",
     "text": [
      "Enter word : StopAndSmellTheRoses\n",
      "Stop and smell the roses\n"
     ]
    }
   ],
   "source": [
    "words = input(\"Enter word : \")\n",
    "res = \"\"\n",
    "i = 0\n",
    "for w in words:\n",
    "    if w.isupper() and i > 0:\n",
    "        res = res + \" \" + w.lower()\n",
    "    else:\n",
    "        res += w\n",
    "    i += 1\n",
    "print(res)"
   ]
  },
  {
   "cell_type": "markdown",
   "metadata": {},
   "source": [
    "## 10.Caesar Cipher\n",
    "A \"Caesar Cipher\" is a simple way of encrypting a message by replacing each letter with a letter A a certain number of spaces up the alphabet. For example, if shifting the message by 13, an A would become an N, while an S would wrap around to the start of the alphabet to become an F.Write a program that asks the user for a message (a string) and ashift amount (an integer). The values should be passed to a function that accepts a string and an integer as arguments, and returns a string representing the original string encrypted by shfiting the letters by the integer. For example, as string \"BEWARE THE IDES OF MARCH\", and an integer of 13 should result in a string of \"ORJNER GUR VQRF BS ZNEPU\"."
   ]
  },
  {
   "cell_type": "code",
   "execution_count": 15,
   "metadata": {},
   "outputs": [
    {
     "name": "stdout",
     "output_type": "stream",
     "text": [
      "Enter text : BEWARE THE IDES OF MARCH\n",
      "Enter shifting : 13\n",
      "Plain Text : BEWARE THE IDES OF MARCH\n",
      "Shift pattern : 13\n",
      "Cipher: ORJNER GUR VQRF BS ZNEPU\n"
     ]
    }
   ],
   "source": [
    "#BEWARE THE IDES OF MARCH\n",
    "text = input(\"Enter text : \")\n",
    "s = int(input(\"Enter shifting : \"))\n",
    "\n",
    "result = \"\"\n",
    "for i in range(len(text)):\n",
    "    char = text[i]\n",
    "    if char.isupper():\n",
    "        result += chr((ord(char) + s-65) % 26 + 65) # x+n mod 26\n",
    "    elif char.islower():\n",
    "        result += chr((ord(char) + s-97) % 26 + 97)\n",
    "    else:\n",
    "        result += \" \"\n",
    "\n",
    "print(\"Plain Text : \" + text)\n",
    "print(\"Shift pattern : \" + str(s))\n",
    "print(\"Cipher: \" + result)"
   ]
  }
 ],
 "metadata": {
  "kernelspec": {
   "display_name": "Python 3",
   "language": "python",
   "name": "python3"
  },
  "language_info": {
   "codemirror_mode": {
    "name": "ipython",
    "version": 3
   },
   "file_extension": ".py",
   "mimetype": "text/x-python",
   "name": "python",
   "nbconvert_exporter": "python",
   "pygments_lexer": "ipython3",
   "version": "3.6.5"
  }
 },
 "nbformat": 4,
 "nbformat_minor": 2
}
