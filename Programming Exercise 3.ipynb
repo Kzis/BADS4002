{
 "cells": [
  {
   "cell_type": "markdown",
   "metadata": {},
   "source": [
    "<font size=\"6\" color=\"#00A0B2\"  face=\"verdana\"> <B>Programming Exercise 3</B></font>\n",
    "\n",
    "\n",
    "## 1.Transformation\n",
    "\n",
    "Wrtie a program that transforms the tuple (1,2,3,4,5,6) into the list ['One',2,'III','hello',5,'III*2']. (Note that there are many possible different answers.)"
   ]
  },
  {
   "cell_type": "code",
   "execution_count": null,
   "metadata": {},
   "outputs": [],
   "source": [
    "my_tuple = (1,2,3,4,5,6)\n",
    "new_list = []\n",
    "for i in my_tuple:\n",
    "    new_list.append('One') if i==1 else None\n",
    "    new_list.append(2) if i==2 else None\n",
    "    new_list.append('III') if i==3 else None\n",
    "    new_list.append('hello') if i==4 else None\n",
    "    new_list.append(5) if i==5 else None\n",
    "    new_list.append('III*2') if i==6 else None\n",
    "print(new_list)"
   ]
  },
  {
   "cell_type": "markdown",
   "metadata": {},
   "source": [
    "## 2.Fixing Code\n",
    "\n",
    "Given a list my_list = [1,2,3,4], we want to convert the list to the string'1234'. We tried ''.join([i for i in L]), but it doesn’t work. Fix it."
   ]
  },
  {
   "cell_type": "code",
   "execution_count": null,
   "metadata": {},
   "outputs": [],
   "source": [
    "my_list = [1,2,3,4]\n",
    "print(''.join([str(i) for i in my_list]))"
   ]
  },
  {
   "cell_type": "markdown",
   "metadata": {},
   "source": [
    "## 3.New List\n",
    "\n",
    "Given a list of integers, write Python code to create a new list with same number of elements as the original list such that each integer in the new list is the sum of its neighbors and itself in the original list. For example, if list1 = [10,20,30,40,50], list2 = [30,60,90,120,90]."
   ]
  },
  {
   "cell_type": "code",
   "execution_count": null,
   "metadata": {},
   "outputs": [],
   "source": [
    "list1 = [10,20,30,40,50]\n",
    "list2 = []\n",
    "for idx, val in enumerate(list1):\n",
    "    if idx == 0:\n",
    "        list2.append(val+list1[idx+1])\n",
    "    elif idx == len(list1)-1:\n",
    "        list2.append(list1[idx-1] + val)\n",
    "    else:\n",
    "        list2.append(list1[idx-1] + val + list1[idx+1]) \n",
    "print(list1)\n",
    "print(list2)\n"
   ]
  },
  {
   "cell_type": "markdown",
   "metadata": {},
   "source": [
    "## 4.Unique List\n",
    "\n",
    "Make a list of the unique letters used in a sentence. That is, if the letter x is used\n",
    "twice in a sentence, it should only appear once in your list. No punctuation should\n",
    "appear in your list. For the purpose of simplicity, consider the following characters as\n",
    "punctuation: . , ; ? ! –"
   ]
  },
  {
   "cell_type": "code",
   "execution_count": null,
   "metadata": {},
   "outputs": [],
   "source": [
    "punctuation = \".,;?!- \"\n",
    "sentence = \"aabbccddeeffgghhii . , ; ? ! !! - \"\n",
    "new_list = list(set(sentence))\n",
    "print(new_list)\n",
    "\n",
    "for s in punctuation:\n",
    "    del new_list[new_list.index(s)]\n",
    "\n",
    "new_list.sort()\n",
    "print(new_list)"
   ]
  },
  {
   "cell_type": "markdown",
   "metadata": {},
   "source": [
    "## 5.Reversed Sentence\n",
    "\n",
    "Write a program that asks the user to enter a sentence and displays the words in the sentence in reversed order. For example, if the sentence is “What is your quest”, it should display “quest your is What”.\n"
   ]
  },
  {
   "cell_type": "code",
   "execution_count": null,
   "metadata": {},
   "outputs": [],
   "source": [
    "sequences = input(\"Enter sequence : \").split(\" \")\n",
    "sequences.reverse()\n",
    "sequences_new = \" \".join([s for s in sequences])\n",
    "print(sequences_new)"
   ]
  },
  {
   "cell_type": "markdown",
   "metadata": {},
   "source": [
    "## 6.Having Fun with Lists\n",
    "\n",
    "It is often times advantageous to be able to transfer data between multiple lists while rearranging their order. For instance, say that list1 = [1,2,3,4,5,6,7,8,9] and you wish to add the numbers in the index range 4:7 of list1 to another list, list2, in reverse order while simultaneously removing them from list1. If list2 =  [100,200], the results will be list2 = [100,200,7,6,5] and list1 = [1,2,3,4,8,9]. Write a program that generates list1 and list2 containing\n",
    "random numbers, asks the user to enter r1 and r2 that will be used to remove items from list1 in the slice r1:r2, appends them into list2 in reverse order, and\n",
    "displays the resulting lists. In order to generate random numbers, your need to use a function in the random library; so you need to do import random."
   ]
  },
  {
   "cell_type": "code",
   "execution_count": null,
   "metadata": {},
   "outputs": [],
   "source": [
    "import random\n",
    "list1 = random.sample(range(1, 101), 10)\n",
    "list2 = random.sample(range(1, 101), 10)\n",
    "print(\"list 1 : {}\".format(list1))\n",
    "print(\"list 2 : {}\".format(list2))\n",
    "print(\"-\"*30)\n",
    "\n",
    "r1 = int(input(\"Enter r1 : \"))\n",
    "r2 = int(input(\"Enter r2 : \"))\n",
    "r_list = list1[r1:r2]\n",
    "print(\"r_list : {}\".format(r_list))\n",
    "r_list.reverse()\n",
    "print(\"r_list reverse : {}\".format(r_list))\n",
    "print(\"-\"*30)\n",
    "\n",
    "list2.extend(r_list)\n",
    "del list1[r1:r2]\n",
    "print(\"list 1 new : {}\".format(list1))\n",
    "print(\"list 2 new : {}\".format(list2))"
   ]
  },
  {
   "cell_type": "markdown",
   "metadata": {},
   "source": [
    "## 7.Valid Number Information\n",
    "Write a program that uses a loop to build a list named valid_numbers that contains only the nubers between 0 and 100 from the numbers list below. The program should then determine and display the total and average of the values in the valid_number list.\n",
    "numbers = [74,19,105,20,‐2,67,77,124,‐45,38]"
   ]
  },
  {
   "cell_type": "code",
   "execution_count": null,
   "metadata": {},
   "outputs": [],
   "source": [
    "number = [74, 19, 105, 20, -2, 67, 77, 124, -45, 38]\n",
    "valid_number = []\n",
    "for n in number:\n",
    "    if  not (0 <= n <= 100):\n",
    "        valid_number.append(n)\n",
    "print(\"valid_number : {}\".format(valid_number))\n",
    "print(\"sum of valid_number : {}\".format(sum(valid_number)))\n",
    "print(\"average of valid_number : {}\".format(sum(valid_number)/len(valid_number)))\n",
    "\n",
    "# x = [n for n in number if  not (0 <= n <= 100)]\n",
    "# print(x)        "
   ]
  },
  {
   "cell_type": "markdown",
   "metadata": {},
   "source": [
    "## 8.Rainfall Statistics\n",
    "Write a program that lets the user enter the total rainfall for each of 12 months into a list. The program should calculate and display the total rainfall for the year, the average monthly rainfall, and the months with the highest and lowest amounts."
   ]
  },
  {
   "cell_type": "code",
   "execution_count": null,
   "metadata": {},
   "outputs": [],
   "source": [
    "rainfall_months = []\n",
    "for i in range(12):\n",
    "    rainfall  = int(input(\"Enter rainfall months \" + str(i+1) +\" : \"))\n",
    "    rainfall_months.append(rainfall)\n",
    "\n",
    "print(\"rainfall_months : {} \".format(rainfall_months))\n",
    "print(\"total_rainfall_year : {} \".format(sum(rainfall_months)))\n",
    "print(\"average_monthly_rainfall : {} \".format([round(m/30, 2) for m in rainfall_months]))\n",
    "print(\"months_highest : {} \".format(max(rainfall_months)))\n",
    "print(\"months_lowest : {} \".format(min(rainfall_months)))"
   ]
  },
  {
   "cell_type": "markdown",
   "metadata": {},
   "source": [
    "## 9.Number Analysis Program\n",
    "Write a program that asks the user to enter a series of 20 numbers. The program\n",
    "should store the numbers in a list and then display the following data:\n",
    "- The lowest number in the list\n",
    "- The highest number in the list\n",
    "- The total of the numbers in the list\n",
    "- The average of the numbers in the list"
   ]
  },
  {
   "cell_type": "code",
   "execution_count": null,
   "metadata": {},
   "outputs": [],
   "source": [
    "num_list = []\n",
    "for i in range(20):\n",
    "    n = int(input(\"Enter number \" + str(i+1) +\" : \"))\n",
    "    num_list.append(n)\n",
    "    \n",
    "print(\"number_list : {}\".format(num_list))\n",
    "print(\"min of number_list : {}\".format(min(num_list)))\n",
    "print(\"max of number_list : {}\".format(max(num_list)))\n",
    "print(\"total of number_list : {}\".format(sum(num_list)))\n",
    "print(\"average of number_list : {}\".format(sum(num_list)/len(num_list)))"
   ]
  },
  {
   "cell_type": "markdown",
   "metadata": {},
   "source": [
    "## 10.Name Search\n",
    "boy_names and girl_names are the list of the 10 most popular names given to boys and girls in the United States in 2018. Write a program that asks the user to enter a name. The user should be able to enter a boy’s name, a girl’s name, or both, and the program will display messages indicating whether the names were among the most popular.\n",
    "- girl_names = [Emma,Olivia,Ava,Isabella,Sophia,Amelia,Mia,Charlotte,Harper,Mila]\n",
    "- boy_names =[Liam,Noah,Oliver,Mason,Lucas,Elijah,Logan,Ethan,Aiden,James]"
   ]
  },
  {
   "cell_type": "code",
   "execution_count": null,
   "metadata": {},
   "outputs": [],
   "source": [
    "girl_names = [\"Emma\",\"Olivia\",\"Ava\",\"Isabella\",\"Sophia\",\"Amelia\",\"Mia\",\"Charlotte\",\"Harper\",\"Mila\"]\n",
    "boy_names = [\"Liam\",\"Noah\",\"Oliver\",\"Mason\",\"Lucas\",\"Elijah\",\"Logan\",\"Ethan\",\"Aiden\",\"James\"]\n",
    "\n",
    "g_name = input(\"Enter girl name : \")\n",
    "b_name = input(\"Enter boy name : \")\n",
    "print(\"-\"*30)\n",
    "print(\"{} is most poppular\".format(g_name)) if girl_names.count(g_name) > 0 else print(\"{} is not most poppular\".format(g_name))\n",
    "print(\"{} is most poppular\".format(b_name)) if boy_names.count(b_name) > 0 else print(\"{} is not most poppular\".format(b_name))"
   ]
  }
 ],
 "metadata": {
  "kernelspec": {
   "display_name": "Python 3",
   "language": "python",
   "name": "python3"
  },
  "language_info": {
   "codemirror_mode": {
    "name": "ipython",
    "version": 3
   },
   "file_extension": ".py",
   "mimetype": "text/x-python",
   "name": "python",
   "nbconvert_exporter": "python",
   "pygments_lexer": "ipython3",
   "version": "3.6.5"
  }
 },
 "nbformat": 4,
 "nbformat_minor": 2
}
